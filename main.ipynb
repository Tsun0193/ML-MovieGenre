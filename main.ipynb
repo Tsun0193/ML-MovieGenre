{
  "cells": [
    {
      "cell_type": "code",
      "execution_count": 1,
      "id": "114cbe67",
      "metadata": {
        "id": "114cbe67"
      },
      "outputs": [
        {
          "name": "stdout",
          "output_type": "stream",
          "text": [
            "WARNING:tensorflow:From c:\\Users\\admin\\anaconda3\\Lib\\site-packages\\keras\\src\\losses.py:2976: The name tf.losses.sparse_softmax_cross_entropy is deprecated. Please use tf.compat.v1.losses.sparse_softmax_cross_entropy instead.\n",
            "\n"
          ]
        }
      ],
      "source": [
        "import pandas as pd\n",
        "import numpy as np\n",
        "import torch\n",
        "import keras\n",
        "from tqdm import tqdm\n",
        "from torch import nn\n",
        "from torch.utils.data import Dataset, DataLoader\n",
        "from torchmetrics.classification import MultilabelF1Score\n",
        "from keras.preprocessing import image\n",
        "from matplotlib import pyplot as plt\n",
        "\n",
        "import cv2\n",
        "import os\n",
        "from nltk import wordpunct_tokenize\n",
        "import re\n",
        "import warnings\n"
      ]
    },
    {
      "cell_type": "code",
      "execution_count": 2,
      "id": "8f2e5b12",
      "metadata": {},
      "outputs": [],
      "source": [
        "os.environ['TF_CPP_MIN_LOG_LEVEL'] = '2' \n",
        "warnings.filterwarnings('ignore')\n",
        "tf.get_logger().setLevel('INFO')"
      ]
    },
    {
      "cell_type": "markdown",
      "id": "a51a843a",
      "metadata": {},
      "source": [
        "# Data"
      ]
    },
    {
      "cell_type": "code",
      "execution_count": 3,
      "id": "b0b3a0c9",
      "metadata": {
        "id": "b0b3a0c9"
      },
      "outputs": [],
      "source": [
        "# You need extract file ml1m.zip to folder ml1m before run code\n",
        "\n",
        "users = pd.read_csv('ml1m/content/dataset/users.dat', sep='::',\n",
        "                        engine='python',\n",
        "                        names=['userid', 'gender', 'age', 'occupation', 'zip']).set_index('userid')\n",
        "ratings = pd.read_csv('ml1m/content/dataset/ratings.dat', engine='python',\n",
        "                          sep='::', names=['userid', 'movieid', 'rating', 'timestamp'])\n",
        "movies_train = pd.read_csv('ml1m/content/dataset/movies_train.dat', engine='python',\n",
        "                         sep='::', names=['movieid', 'title', 'genre'], encoding='ISO-8859-1', index_col=False).set_index('movieid')\n",
        "movies_test = pd.read_csv('ml1m/content/dataset/movies_test.dat', engine='python',\n",
        "                         sep='::', names=['movieid', 'title', 'genre'], encoding='ISO-8859-1', index_col=False).set_index('movieid')\n",
        "movies_train['genre'] = movies_train.genre.str.split('|')\n",
        "movies_train.index.name = 'ID'\n",
        "movies_test['genre'] = movies_test.genre.str.split('|')\n",
        "movies_test.index.name = 'ID'\n",
        "\n",
        "users.age = users.age.astype('int')\n",
        "users.gender = users.gender.astype('category')\n",
        "users.occupation = users.occupation.astype('category')\n",
        "ratings.movieid = ratings.movieid.astype('int')\n",
        "ratings.userid = ratings.userid.astype('int')"
      ]
    },
    {
      "cell_type": "code",
      "execution_count": 4,
      "id": "cbb0fae1",
      "metadata": {},
      "outputs": [
        {
          "data": {
            "text/plain": [
              "['Crime',\n",
              " 'Thriller',\n",
              " 'Fantasy',\n",
              " 'Horror',\n",
              " 'Sci-Fi',\n",
              " 'Comedy',\n",
              " 'Documentary',\n",
              " 'Adventure',\n",
              " 'Film-Noir',\n",
              " 'Animation',\n",
              " 'Romance',\n",
              " 'Drama',\n",
              " 'Western',\n",
              " 'Musical',\n",
              " 'Action',\n",
              " 'Mystery',\n",
              " 'War',\n",
              " \"Children's\"]"
            ]
          },
          "execution_count": 4,
          "metadata": {},
          "output_type": "execute_result"
        }
      ],
      "source": [
        "with open('ml1m/content/dataset/genres.txt', 'r') as f:\n",
        "    genre_all = f.readlines()\n",
        "genres = [genre.strip() for genre in genre_all]\n",
        "genres"
      ]
    },
    {
      "cell_type": "code",
      "execution_count": 5,
      "id": "35d104d8",
      "metadata": {},
      "outputs": [],
      "source": [
        "def preprocess(df, path='ml1m/content/dataset/ml1m-images', genres=genres) -> pd.DataFrame:\n",
        "    df['img_path'] = df.apply(lambda x: os.path.join(path, str(x.name) + '.jpg'), axis=1)\n",
        "\n",
        "    # multi-hot encoding\n",
        "    for genre in genres:\n",
        "        df[genre] = df.genre.apply(lambda x: 1 if genre in x else 0)\n",
        "    df.drop(columns=['genre'], inplace=True)\n",
        "\n",
        "    # Remove movies without images\n",
        "    df = df[df.img_path.apply(lambda x: os.path.exists(x))]\n",
        "\n",
        "    return df"
      ]
    },
    {
      "cell_type": "code",
      "execution_count": 6,
      "id": "391861b3",
      "metadata": {},
      "outputs": [],
      "source": [
        "trainset = preprocess(movies_train)\n",
        "testset = preprocess(movies_test)"
      ]
    },
    {
      "cell_type": "code",
      "execution_count": 7,
      "id": "75151b8c",
      "metadata": {},
      "outputs": [],
      "source": [
        "def vectorize(df) -> (list, list):\n",
        "    x = []\n",
        "    for i in tqdm(range(len(df))):\n",
        "        img = image.load_img(df.iloc[i].img_path, target_size=(224, 224, 3))\n",
        "        img = image.img_to_array(img)\n",
        "        img = img / 255\n",
        "        x.append(img)\n",
        "    y = df[genres].values\n",
        "    return x, y"
      ]
    },
    {
      "cell_type": "code",
      "execution_count": 8,
      "id": "1ba464d3",
      "metadata": {},
      "outputs": [
        {
          "name": "stderr",
          "output_type": "stream",
          "text": [
            "  0%|          | 0/2602 [00:00<?, ?it/s]"
          ]
        },
        {
          "name": "stderr",
          "output_type": "stream",
          "text": [
            "100%|██████████| 2602/2602 [00:34<00:00, 76.30it/s]\n",
            "100%|██████████| 654/654 [00:08<00:00, 79.61it/s]\n"
          ]
        }
      ],
      "source": [
        "x_train, y_train = vectorize(trainset)\n",
        "x_test, y_test = vectorize(testset)"
      ]
    },
    {
      "cell_type": "markdown",
      "id": "5a4fa6b1",
      "metadata": {
        "id": "5a4fa6b1"
      },
      "source": [
        "## Model"
      ]
    },
    {
      "cell_type": "code",
      "execution_count": 9,
      "id": "01d21b48",
      "metadata": {
        "id": "01d21b48"
      },
      "outputs": [
        {
          "data": {
            "text/plain": [
              "device(type='cuda', index=0)"
            ]
          },
          "execution_count": 9,
          "metadata": {},
          "output_type": "execute_result"
        }
      ],
      "source": [
        "device = torch.device(\"cuda:0\" if torch.cuda.is_available() else \"cpu\")\n",
        "device"
      ]
    },
    {
      "cell_type": "code",
      "execution_count": 10,
      "id": "3572c673",
      "metadata": {},
      "outputs": [
        {
          "name": "stdout",
          "output_type": "stream",
          "text": [
            "WARNING:tensorflow:From c:\\Users\\admin\\anaconda3\\Lib\\site-packages\\keras\\src\\backend.py:1398: The name tf.executing_eagerly_outside_functions is deprecated. Please use tf.compat.v1.executing_eagerly_outside_functions instead.\n",
            "\n",
            "WARNING:tensorflow:From c:\\Users\\admin\\anaconda3\\Lib\\site-packages\\keras\\src\\layers\\pooling\\max_pooling2d.py:161: The name tf.nn.max_pool is deprecated. Please use tf.nn.max_pool2d instead.\n",
            "\n"
          ]
        }
      ],
      "source": [
        "conv_base = keras.applications.VGG16(weights='imagenet', include_top=False, input_shape=(224, 224, 3))\n",
        "conv_base.trainable = True\n",
        "\n",
        "model = keras.models.Sequential()\n",
        "model.add(conv_base)\n",
        "model.add(keras.layers.Flatten())\n",
        "model.add(keras.layers.Dropout(0.5))\n",
        "model.add(keras.layers.Dense(256, activation='relu'))\n",
        "model.add(keras.layers.Dropout(0.5))\n",
        "model.add(keras.layers.Dense(18, activation='softmax'))"
      ]
    },
    {
      "cell_type": "code",
      "execution_count": 11,
      "id": "11c89678",
      "metadata": {},
      "outputs": [],
      "source": [
        "model.compile(optimizer=keras.optimizers.Adam(learning_rate=0.0001), loss='binary_crossentropy', metrics=['accuracy'])\n",
        "model._name = 'Poro'"
      ]
    },
    {
      "cell_type": "code",
      "execution_count": 12,
      "id": "c567d50a",
      "metadata": {},
      "outputs": [
        {
          "name": "stdout",
          "output_type": "stream",
          "text": [
            "Epoch 1/20\n",
            "WARNING:tensorflow:From c:\\Users\\admin\\anaconda3\\Lib\\site-packages\\keras\\src\\utils\\tf_utils.py:492: The name tf.ragged.RaggedTensorValue is deprecated. Please use tf.compat.v1.ragged.RaggedTensorValue instead.\n",
            "\n",
            "WARNING:tensorflow:From c:\\Users\\admin\\anaconda3\\Lib\\site-packages\\keras\\src\\engine\\base_layer_utils.py:384: The name tf.executing_eagerly_outside_functions is deprecated. Please use tf.compat.v1.executing_eagerly_outside_functions instead.\n",
            "\n",
            "74/74 [==============================] - 598s 8s/step - loss: 0.3439 - accuracy: 0.1884 - val_loss: 0.2741 - val_accuracy: 0.2912\n",
            "Epoch 2/20\n",
            "74/74 [==============================] - 527s 7s/step - loss: 0.3060 - accuracy: 0.2379 - val_loss: 0.2733 - val_accuracy: 0.2797\n",
            "Epoch 3/20\n",
            "74/74 [==============================] - 528s 7s/step - loss: 0.2946 - accuracy: 0.2439 - val_loss: 0.2647 - val_accuracy: 0.3333\n",
            "Epoch 4/20\n",
            "74/74 [==============================] - 572s 8s/step - loss: 0.2891 - accuracy: 0.2589 - val_loss: 0.2767 - val_accuracy: 0.3257\n",
            "Epoch 5/20\n",
            "74/74 [==============================] - 638s 9s/step - loss: 0.2817 - accuracy: 0.2853 - val_loss: 0.2611 - val_accuracy: 0.3333\n",
            "Epoch 6/20\n",
            "74/74 [==============================] - 618s 8s/step - loss: 0.2750 - accuracy: 0.2871 - val_loss: 0.2651 - val_accuracy: 0.3448\n",
            "Epoch 7/20\n",
            "74/74 [==============================] - 634s 9s/step - loss: 0.2678 - accuracy: 0.3178 - val_loss: 0.2618 - val_accuracy: 0.3218\n",
            "Epoch 8/20\n",
            "74/74 [==============================] - 638s 9s/step - loss: 0.2609 - accuracy: 0.3208 - val_loss: 0.2669 - val_accuracy: 0.2989\n",
            "Epoch 9/20\n",
            "74/74 [==============================] - 576s 8s/step - loss: 0.2559 - accuracy: 0.3281 - val_loss: 0.2533 - val_accuracy: 0.3142\n",
            "Epoch 10/20\n",
            "74/74 [==============================] - 644s 9s/step - loss: 0.2506 - accuracy: 0.3413 - val_loss: 0.2554 - val_accuracy: 0.3716\n",
            "Epoch 11/20\n",
            "74/74 [==============================] - 673s 9s/step - loss: 0.2407 - accuracy: 0.3678 - val_loss: 0.2571 - val_accuracy: 0.3448\n",
            "Epoch 12/20\n",
            "74/74 [==============================] - 639s 9s/step - loss: 0.2363 - accuracy: 0.3904 - val_loss: 0.2528 - val_accuracy: 0.3678\n",
            "Epoch 13/20\n",
            "74/74 [==============================] - 598s 8s/step - loss: 0.2263 - accuracy: 0.4169 - val_loss: 0.2541 - val_accuracy: 0.3525\n",
            "Epoch 14/20\n",
            "74/74 [==============================] - 605s 8s/step - loss: 0.2165 - accuracy: 0.4263 - val_loss: 0.2649 - val_accuracy: 0.3678\n",
            "Epoch 15/20\n",
            "74/74 [==============================] - 533s 7s/step - loss: 0.2056 - accuracy: 0.4532 - val_loss: 0.2668 - val_accuracy: 0.3602\n",
            "Epoch 16/20\n",
            "74/74 [==============================] - 484s 7s/step - loss: 0.1986 - accuracy: 0.4677 - val_loss: 0.2803 - val_accuracy: 0.3640\n",
            "Epoch 17/20\n",
            "74/74 [==============================] - 433s 6s/step - loss: 0.1773 - accuracy: 0.5220 - val_loss: 0.2703 - val_accuracy: 0.3295\n",
            "Epoch 18/20\n",
            "74/74 [==============================] - 438s 6s/step - loss: 0.1652 - accuracy: 0.5421 - val_loss: 0.2850 - val_accuracy: 0.3372\n",
            "Epoch 19/20\n",
            "74/74 [==============================] - 441s 6s/step - loss: 0.1506 - accuracy: 0.5622 - val_loss: 0.2875 - val_accuracy: 0.3678\n",
            "Epoch 20/20\n",
            "74/74 [==============================] - 443s 6s/step - loss: 0.1391 - accuracy: 0.5886 - val_loss: 0.3113 - val_accuracy: 0.3678\n"
          ]
        },
        {
          "data": {
            "image/png": "[encoded data removed]",
            "text/plain": [
              "<Figure size 640x480 with 1 Axes>"
            ]
          },
          "metadata": {},
          "output_type": "display_data"
        }
      ],
      "source": [
        "# If trainable = True, run this cell\n",
        "if conv_base.trainable:\n",
        "    history = model.fit(np.array(x_train), np.array(y_train), epochs=20, batch_size=32, validation_split=0.1, workers=4)\n",
        "    plt.plot(history.history['accuracy'])\n",
        "    plt.plot(history.history['val_accuracy'])\n",
        "    plt.title('model accuracy')\n",
        "    plt.ylabel('accuracy')\n",
        "    plt.xlabel('epoch')\n",
        "    plt.legend(['train', 'val'])\n",
        "    plt.show()"
      ]
    },
    {
      "cell_type": "markdown",
      "id": "2e4f8bed",
      "metadata": {
        "id": "2e4f8bed"
      },
      "source": [
        "## Loss"
      ]
    },
    {
      "cell_type": "code",
      "execution_count": 13,
      "id": "0ebe938d",
      "metadata": {},
      "outputs": [
        {
          "name": "stdout",
          "output_type": "stream",
          "text": [
            "21/21 [==============================] - 38s 2s/step\n"
          ]
        },
        {
          "data": {
            "text/plain": [
              "tensor(0.0900)"
            ]
          },
          "execution_count": 13,
          "metadata": {},
          "output_type": "execute_result"
        }
      ],
      "source": [
        "# Calculate Multi-label F1 score, threshold = 0.5, average = 'macro'\n",
        "y_pred = model.predict(np.array(x_test))\n",
        "f1 = MultilabelF1Score(num_labels=18, threshold=0.5, average='macro')\n",
        "f1.update(torch.tensor(y_pred), torch.tensor(y_test))\n",
        "f1.compute()"
      ]
    },
    {
      "cell_type": "code",
      "execution_count": 14,
      "id": "c7b2ed72",
      "metadata": {},
      "outputs": [],
      "source": [
        "# Version: 1.0 Poro"
      ]
    }
  ],
  "metadata": {
    "accelerator": "GPU",
    "colab": {
      "gpuType": "T4",
      "provenance": []
    },
    "kernelspec": {
      "display_name": "Python 3",
      "name": "python3"
    },
    "language_info": {
      "codemirror_mode": {
        "name": "ipython",
        "version": 3
      },
      "file_extension": ".py",
      "mimetype": "text/x-python",
      "name": "python",
      "nbconvert_exporter": "python",
      "pygments_lexer": "ipython3",
      "version": "3.11.5"
    }
  },
  "nbformat": 4,
  "nbformat_minor": 5
}
