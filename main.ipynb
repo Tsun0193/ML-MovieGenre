{
  "cells": [
    {
      "cell_type": "code",
      "execution_count": 8,
      "id": "114cbe67",
      "metadata": {
        "id": "114cbe67"
      },
      "outputs": [],
      "source": [
        "import pandas as pd\n",
        "import numpy as np\n",
        "import torch\n",
        "import keras\n",
        "from tqdm import tqdm\n",
        "from torch import nn\n",
        "from torch.utils.data import Dataset, DataLoader\n",
        "from torchmetrics.classification import MultilabelF1Score\n",
        "from keras.preprocessing import image\n",
        "from matplotlib import pyplot as plt\n",
        "\n",
        "import cv2\n",
        "import os\n",
        "from nltk import wordpunct_tokenize\n",
        "import re\n",
        "import warnings\n",
        "warnings.filterwarnings('ignore')"
      ]
    },
    {
      "cell_type": "markdown",
      "id": "a51a843a",
      "metadata": {},
      "source": [
        "# Data"
      ]
    },
    {
      "cell_type": "code",
      "execution_count": 9,
      "id": "b0b3a0c9",
      "metadata": {
        "id": "b0b3a0c9"
      },
      "outputs": [],
      "source": [
        "# You need extract file ml1m.zip to folder ml1m before run code\n",
        "\n",
        "users = pd.read_csv('ml1m/content/dataset/users.dat', sep='::',\n",
        "                        engine='python',\n",
        "                        names=['userid', 'gender', 'age', 'occupation', 'zip']).set_index('userid')\n",
        "ratings = pd.read_csv('ml1m/content/dataset/ratings.dat', engine='python',\n",
        "                          sep='::', names=['userid', 'movieid', 'rating', 'timestamp'])\n",
        "movies_train = pd.read_csv('ml1m/content/dataset/movies_train.dat', engine='python',\n",
        "                         sep='::', names=['movieid', 'title', 'genre'], encoding='ISO-8859-1', index_col=False).set_index('movieid')\n",
        "movies_test = pd.read_csv('ml1m/content/dataset/movies_test.dat', engine='python',\n",
        "                         sep='::', names=['movieid', 'title', 'genre'], encoding='ISO-8859-1', index_col=False).set_index('movieid')\n",
        "movies_train['genre'] = movies_train.genre.str.split('|')\n",
        "movies_train.index.name = 'ID'\n",
        "movies_test['genre'] = movies_test.genre.str.split('|')\n",
        "movies_test.index.name = 'ID'\n",
        "\n",
        "users.age = users.age.astype('int')\n",
        "users.gender = users.gender.astype('category')\n",
        "users.occupation = users.occupation.astype('category')\n",
        "ratings.movieid = ratings.movieid.astype('int')\n",
        "ratings.userid = ratings.userid.astype('int')"
      ]
    },
    {
      "cell_type": "code",
      "execution_count": 10,
      "id": "cbb0fae1",
      "metadata": {},
      "outputs": [
        {
          "data": {
            "text/plain": [
              "['Crime',\n",
              " 'Thriller',\n",
              " 'Fantasy',\n",
              " 'Horror',\n",
              " 'Sci-Fi',\n",
              " 'Comedy',\n",
              " 'Documentary',\n",
              " 'Adventure',\n",
              " 'Film-Noir',\n",
              " 'Animation',\n",
              " 'Romance',\n",
              " 'Drama',\n",
              " 'Western',\n",
              " 'Musical',\n",
              " 'Action',\n",
              " 'Mystery',\n",
              " 'War',\n",
              " \"Children's\"]"
            ]
          },
          "execution_count": 10,
          "metadata": {},
          "output_type": "execute_result"
        }
      ],
      "source": [
        "with open('ml1m/content/dataset/genres.txt', 'r') as f:\n",
        "    genre_all = f.readlines()\n",
        "genres = [genre.strip() for genre in genre_all]\n",
        "genres"
      ]
    },
    {
      "cell_type": "code",
      "execution_count": 11,
      "id": "35d104d8",
      "metadata": {},
      "outputs": [],
      "source": [
        "def preprocess(df, path='ml1m/content/dataset/ml1m-images', genres=genres) -> pd.DataFrame:\n",
        "    df['img_path'] = df.apply(lambda x: os.path.join(path, str(x.name) + '.jpg'), axis=1)\n",
        "\n",
        "    # multi-hot encoding\n",
        "    for genre in genres:\n",
        "        df[genre] = df.genre.apply(lambda x: 1 if genre in x else 0)\n",
        "    df.drop(columns=['genre'], inplace=True)\n",
        "\n",
        "    # Remove movies without images\n",
        "    df = df[df.img_path.apply(lambda x: os.path.exists(x))]\n",
        "\n",
        "    return df"
      ]
    },
    {
      "cell_type": "code",
      "execution_count": 12,
      "id": "391861b3",
      "metadata": {},
      "outputs": [],
      "source": [
        "trainset = preprocess(movies_train)\n",
        "testset = preprocess(movies_test)"
      ]
    },
    {
      "cell_type": "code",
      "execution_count": 13,
      "id": "75151b8c",
      "metadata": {},
      "outputs": [],
      "source": [
        "def vectorize(df) -> (list, list):\n",
        "    x = []\n",
        "    for i in tqdm(range(len(df))):\n",
        "        img = image.load_img(df.iloc[i].img_path, target_size=(224, 224, 3))\n",
        "        img = image.img_to_array(img)\n",
        "        img = img / 255\n",
        "        x.append(img)\n",
        "    y = df[genres].values\n",
        "    return x, y"
      ]
    },
    {
      "cell_type": "code",
      "execution_count": 14,
      "id": "1ba464d3",
      "metadata": {},
      "outputs": [
        {
          "name": "stderr",
          "output_type": "stream",
          "text": [
            "100%|██████████| 2602/2602 [00:05<00:00, 463.47it/s]\n",
            "100%|██████████| 654/654 [00:03<00:00, 188.63it/s]\n"
          ]
        }
      ],
      "source": [
        "x_train, y_train = vectorize(trainset)\n",
        "x_test, y_test = vectorize(testset)"
      ]
    },
    {
      "cell_type": "markdown",
      "id": "5a4fa6b1",
      "metadata": {
        "id": "5a4fa6b1"
      },
      "source": [
        "## Model"
      ]
    },
    {
      "cell_type": "code",
      "execution_count": 15,
      "id": "01d21b48",
      "metadata": {
        "id": "01d21b48"
      },
      "outputs": [
        {
          "data": {
            "text/plain": [
              "device(type='cuda', index=0)"
            ]
          },
          "execution_count": 15,
          "metadata": {},
          "output_type": "execute_result"
        }
      ],
      "source": [
        "device = torch.device(\"cuda:0\" if torch.cuda.is_available() else \"cpu\")\n",
        "device"
      ]
    },
    {
      "cell_type": "code",
      "execution_count": 16,
      "id": "3572c673",
      "metadata": {},
      "outputs": [
        {
          "name": "stdout",
          "output_type": "stream",
          "text": [
            "WARNING:tensorflow:From c:\\Users\\admin\\anaconda3\\Lib\\site-packages\\keras\\src\\backend.py:1398: The name tf.executing_eagerly_outside_functions is deprecated. Please use tf.compat.v1.executing_eagerly_outside_functions instead.\n",
            "\n",
            "WARNING:tensorflow:From c:\\Users\\admin\\anaconda3\\Lib\\site-packages\\keras\\src\\layers\\pooling\\max_pooling2d.py:161: The name tf.nn.max_pool is deprecated. Please use tf.nn.max_pool2d instead.\n",
            "\n"
          ]
        }
      ],
      "source": [
        "conv_base = keras.applications.VGG16(weights='imagenet', include_top=False, input_shape=(224, 224, 3))\n",
        "conv_base.trainable = True\n",
        "\n",
        "model = keras.models.Sequential()\n",
        "model.add(conv_base)\n",
        "model.add(keras.layers.Flatten())\n",
        "model.add(keras.layers.Dropout(0.25))\n",
        "model.add(keras.layers.Dense(256, activation='relu'))\n",
        "model.add(keras.layers.Dropout(0.25))\n",
        "model.add(keras.layers.Dense(18, activation='softmax'))"
      ]
    },
    {
      "cell_type": "code",
      "execution_count": 17,
      "id": "11c89678",
      "metadata": {},
      "outputs": [],
      "source": [
        "model.compile(optimizer=keras.optimizers.Adam(learning_rate=0.0001), loss='binary_crossentropy', metrics=['accuracy'])\n",
        "model._name = 'Poro'"
      ]
    },
    {
      "cell_type": "code",
      "execution_count": 18,
      "id": "c567d50a",
      "metadata": {},
      "outputs": [
        {
          "name": "stdout",
          "output_type": "stream",
          "text": [
            "Epoch 1/10\n",
            "WARNING:tensorflow:From c:\\Users\\admin\\anaconda3\\Lib\\site-packages\\keras\\src\\utils\\tf_utils.py:492: The name tf.ragged.RaggedTensorValue is deprecated. Please use tf.compat.v1.ragged.RaggedTensorValue instead.\n",
            "\n",
            "WARNING:tensorflow:From c:\\Users\\admin\\anaconda3\\Lib\\site-packages\\keras\\src\\engine\\base_layer_utils.py:384: The name tf.executing_eagerly_outside_functions is deprecated. Please use tf.compat.v1.executing_eagerly_outside_functions instead.\n",
            "\n",
            "74/74 [==============================] - 551s 7s/step - loss: 0.3080 - accuracy: 0.2157 - val_loss: 0.2827 - val_accuracy: 0.2529\n",
            "Epoch 2/10\n",
            "74/74 [==============================] - 518s 7s/step - loss: 0.2815 - accuracy: 0.2661 - val_loss: 0.2659 - val_accuracy: 0.3410\n",
            "Epoch 3/10\n",
            "74/74 [==============================] - 514s 7s/step - loss: 0.2737 - accuracy: 0.2755 - val_loss: 0.2625 - val_accuracy: 0.3295\n",
            "Epoch 4/10\n",
            "74/74 [==============================] - 494s 7s/step - loss: 0.2652 - accuracy: 0.2973 - val_loss: 0.2848 - val_accuracy: 0.2529\n",
            "Epoch 5/10\n",
            "74/74 [==============================] - 489s 7s/step - loss: 0.2551 - accuracy: 0.3276 - val_loss: 0.2710 - val_accuracy: 0.3027\n",
            "Epoch 6/10\n",
            "74/74 [==============================] - 535s 7s/step - loss: 0.2489 - accuracy: 0.3217 - val_loss: 0.2565 - val_accuracy: 0.3831\n",
            "Epoch 7/10\n",
            "74/74 [==============================] - 533s 7s/step - loss: 0.2388 - accuracy: 0.3533 - val_loss: 0.2721 - val_accuracy: 0.2989\n",
            "Epoch 8/10\n",
            "74/74 [==============================] - 533s 7s/step - loss: 0.2277 - accuracy: 0.3742 - val_loss: 0.2618 - val_accuracy: 0.3142\n",
            "Epoch 9/10\n",
            "74/74 [==============================] - 558s 8s/step - loss: 0.2136 - accuracy: 0.4182 - val_loss: 0.2535 - val_accuracy: 0.3755\n",
            "Epoch 10/10\n",
            "74/74 [==============================] - 537s 7s/step - loss: 0.1881 - accuracy: 0.4729 - val_loss: 0.2700 - val_accuracy: 0.3602\n"
          ]
        },
        {
          "data": {
            "image/png": "[encoded data removed]",
            "text/plain": [
              "<Figure size 640x480 with 1 Axes>"
            ]
          },
          "metadata": {},
          "output_type": "display_data"
        }
      ],
      "source": [
        "history = model.fit(np.array(x_train), np.array(y_train), epochs=10, batch_size=32, validation_split=0.1, workers=4)\n",
        "plt.plot(history.history['accuracy'])\n",
        "plt.plot(history.history['val_accuracy'])\n",
        "plt.title('model accuracy')\n",
        "plt.ylabel('accuracy')\n",
        "plt.xlabel('epoch')\n",
        "plt.legend(['train', 'val'])\n",
        "plt.show()"
      ]
    },
    {
      "cell_type": "markdown",
      "id": "2e4f8bed",
      "metadata": {
        "id": "2e4f8bed"
      },
      "source": [
        "## Loss"
      ]
    },
    {
      "cell_type": "code",
      "execution_count": 20,
      "id": "0ebe938d",
      "metadata": {},
      "outputs": [
        {
          "name": "stdout",
          "output_type": "stream",
          "text": [
            "21/21 [==============================] - 47s 2s/step\n"
          ]
        },
        {
          "data": {
            "text/plain": [
              "tensor(0.0779)"
            ]
          },
          "execution_count": 20,
          "metadata": {},
          "output_type": "execute_result"
        }
      ],
      "source": [
        "# Calculate Multi-label F1 score, threshold = 0.5, average = 'macro'\n",
        "y_pred = model.predict(np.array(x_test))\n",
        "y_pred = (y_pred > 0.5).astype(int)\n",
        "f1 = MultilabelF1Score(num_labels=18, threshold=0.5, average='macro')\n",
        "f1.update(torch.tensor(y_pred), torch.tensor(y_test))\n",
        "f1.compute()"
      ]
    },
    {
      "cell_type": "code",
      "execution_count": null,
      "id": "c7b2ed72",
      "metadata": {},
      "outputs": [],
      "source": []
    }
  ],
  "metadata": {
    "accelerator": "GPU",
    "colab": {
      "gpuType": "T4",
      "provenance": []
    },
    "kernelspec": {
      "display_name": "Python 3",
      "name": "python3"
    },
    "language_info": {
      "codemirror_mode": {
        "name": "ipython",
        "version": 3
      },
      "file_extension": ".py",
      "mimetype": "text/x-python",
      "name": "python",
      "nbconvert_exporter": "python",
      "pygments_lexer": "ipython3",
      "version": "3.11.5"
    }
  },
  "nbformat": 4,
  "nbformat_minor": 5
}
