{
  "cells": [
    {
      "cell_type": "code",
      "execution_count": 1,
      "id": "114cbe67",
      "metadata": {
        "id": "114cbe67"
      },
      "outputs": [],
      "source": [
        "import pandas as pd\n",
        "import numpy as np\n",
        "import torch\n",
        "from tqdm import tqdm\n",
        "from torch.utils.data import Dataset, DataLoader\n",
        "from keras.preprocessing import image\n",
        "from torchmetrics.classification import MultilabelF1Score\n",
        "from torchvision import models\n",
        "from torchvision.transforms import v2\n",
        "import os\n",
        "import warnings\n"
      ]
    },
    {
      "cell_type": "code",
      "execution_count": 2,
      "id": "8f2e5b12",
      "metadata": {},
      "outputs": [],
      "source": [
        "os.environ['TF_CPP_MIN_LOG_LEVEL'] = '2' \n",
        "warnings.filterwarnings('ignore')"
      ]
    },
    {
      "cell_type": "markdown",
      "id": "a51a843a",
      "metadata": {},
      "source": [
        "# Data"
      ]
    },
    {
      "cell_type": "code",
      "execution_count": 3,
      "id": "b0b3a0c9",
      "metadata": {
        "id": "b0b3a0c9"
      },
      "outputs": [],
      "source": [
        "# You need extract file ml1m.zip to folder ml1m before run code\n",
        "\n",
        "users = pd.read_csv('ml1m/content/dataset/users.dat', sep='::',\n",
        "                        engine='python',\n",
        "                        names=['userid', 'gender', 'age', 'occupation', 'zip']).set_index('userid')\n",
        "ratings = pd.read_csv('ml1m/content/dataset/ratings.dat', engine='python',\n",
        "                          sep='::', names=['userid', 'movieid', 'rating', 'timestamp'])\n",
        "movies_train = pd.read_csv('ml1m/content/dataset/movies_train.dat', engine='python',\n",
        "                         sep='::', names=['movieid', 'title', 'genre'], encoding='ISO-8859-1', index_col=False).set_index('movieid')\n",
        "movies_test = pd.read_csv('ml1m/content/dataset/movies_test.dat', engine='python',\n",
        "                         sep='::', names=['movieid', 'title', 'genre'], encoding='ISO-8859-1', index_col=False).set_index('movieid')\n",
        "movies_train['genre'] = movies_train.genre.str.split('|')\n",
        "movies_train.index.name = 'ID'\n",
        "movies_test['genre'] = movies_test.genre.str.split('|')\n",
        "movies_test.index.name = 'ID'\n",
        "\n",
        "users.age = users.age.astype('int')\n",
        "users.gender = users.gender.astype('category')\n",
        "users.occupation = users.occupation.astype('category')\n",
        "ratings.movieid = ratings.movieid.astype('int')\n",
        "ratings.userid = ratings.userid.astype('int')"
      ]
    },
    {
      "cell_type": "code",
      "execution_count": 4,
      "id": "cbb0fae1",
      "metadata": {},
      "outputs": [],
      "source": [
        "with open('ml1m/content/dataset/genres.txt', 'r') as f:\n",
        "    genre_all = f.readlines()\n",
        "genres = [genre.strip() for genre in genre_all]"
      ]
    },
    {
      "cell_type": "code",
      "execution_count": 5,
      "id": "35d104d8",
      "metadata": {},
      "outputs": [],
      "source": [
        "def preprocess(df, path='ml1m/content/dataset/ml1m-images', genres=genres) -> pd.DataFrame:\n",
        "    df['img_path'] = df.apply(lambda x: os.path.join(path, str(x.name) + '.jpg'), axis=1)\n",
        "\n",
        "    # multi-hot encoding\n",
        "    for genre in genres:\n",
        "        df[genre] = df.genre.apply(lambda x: 1 if genre in x else 0)\n",
        "    df.drop(columns=['genre'], inplace=True)\n",
        "\n",
        "    # Remove movies without images\n",
        "    df = df[df.img_path.apply(lambda x: os.path.exists(x))]\n",
        "\n",
        "    return df"
      ]
    },
    {
      "cell_type": "code",
      "execution_count": 6,
      "id": "60413436",
      "metadata": {},
      "outputs": [],
      "source": [
        "trainset = preprocess(movies_train)\n",
        "testset = preprocess(movies_test)"
      ]
    },
    {
      "cell_type": "markdown",
      "id": "3fad5991",
      "metadata": {},
      "source": [
        "# Custom Dataset"
      ]
    },
    {
      "cell_type": "code",
      "execution_count": 7,
      "id": "728c54be",
      "metadata": {},
      "outputs": [],
      "source": [
        "class Poroset(Dataset):\n",
        "    def __init__(self, df):\n",
        "        self.df = df\n",
        "        self.img_path = df.img_path.values\n",
        "        self.labels = df[genres].values\n",
        "        self.transform = v2.Compose([\n",
        "            v2.Resize((224, 224)),\n",
        "            v2.ToTensor(),\n",
        "            v2.Normalize(mean=[0.485, 0.456, 0.406],\n",
        "                                    std=[0.229, 0.224, 0.225])\n",
        "        ])\n",
        "\n",
        "    def __len__(self):\n",
        "        return len(self.df)\n",
        "    \n",
        "    def __getitem__(self, idx):\n",
        "        img = image.load_img(self.img_path[idx])\n",
        "        img = self.transform(img)\n",
        "        label = torch.tensor(self.labels[idx]).float()\n",
        "        return img, label"
      ]
    },
    {
      "cell_type": "code",
      "execution_count": 8,
      "id": "ca11ea36",
      "metadata": {},
      "outputs": [],
      "source": [
        "trainset = Poroset(trainset)\n",
        "testset = Poroset(testset)"
      ]
    },
    {
      "cell_type": "code",
      "execution_count": 9,
      "id": "33b1098f",
      "metadata": {},
      "outputs": [],
      "source": [
        "trainloader = DataLoader(trainset, batch_size=32, shuffle=True)\n",
        "testloader = DataLoader(testset, batch_size=32, shuffle=True)"
      ]
    },
    {
      "cell_type": "markdown",
      "id": "5a4fa6b1",
      "metadata": {
        "id": "5a4fa6b1"
      },
      "source": [
        "## Model"
      ]
    },
    {
      "cell_type": "code",
      "execution_count": 10,
      "id": "01d21b48",
      "metadata": {
        "id": "01d21b48"
      },
      "outputs": [
        {
          "data": {
            "text/plain": [
              "device(type='cuda', index=0)"
            ]
          },
          "execution_count": 10,
          "metadata": {},
          "output_type": "execute_result"
        }
      ],
      "source": [
        "device = torch.device(\"cuda:0\" if torch.cuda.is_available() else \"cpu\")\n",
        "device"
      ]
    },
    {
      "cell_type": "code",
      "execution_count": 11,
      "id": "5d376361",
      "metadata": {},
      "outputs": [],
      "source": [
        "model = models.resnet101(pretrained=False)\n",
        "num_ftrs = model.fc.in_features\n",
        "model.fc = torch.nn.Linear(num_ftrs, len(genres))\n",
        "model = model.to(device)"
      ]
    },
    {
      "cell_type": "code",
      "execution_count": 12,
      "id": "a1ff0bc6",
      "metadata": {},
      "outputs": [],
      "source": [
        "criterion = torch.nn.BCEWithLogitsLoss()\n",
        "optimizer = torch.optim.Adam(model.parameters(), lr=0.001)"
      ]
    },
    {
      "cell_type": "code",
      "execution_count": 13,
      "id": "43c9a773",
      "metadata": {},
      "outputs": [],
      "source": [
        "def train(epoch):\n",
        "    model.train()\n",
        "    for x, y in tqdm(trainloader):\n",
        "        x, y = x.to(device), y.to(device)\n",
        "        optimizer.zero_grad()\n",
        "        y_pred = model(x)\n",
        "        loss = criterion(y_pred, y.float())\n",
        "        loss.backward()\n",
        "        optimizer.step()"
      ]
    },
    {
      "cell_type": "code",
      "execution_count": 14,
      "id": "e3824d4c",
      "metadata": {},
      "outputs": [
        {
          "name": "stderr",
          "output_type": "stream",
          "text": [
            "100%|██████████| 82/82 [00:25<00:00,  3.27it/s]\n"
          ]
        }
      ],
      "source": [
        "for epoch in range(16):\n",
        "    train(epoch)"
      ]
    },
    {
      "cell_type": "code",
      "execution_count": 15,
      "id": "1ee35b79",
      "metadata": {},
      "outputs": [
        {
          "name": "stderr",
          "output_type": "stream",
          "text": [
            "100%|██████████| 21/21 [00:04<00:00,  4.29it/s]\n"
          ]
        },
        {
          "data": {
            "text/plain": [
              "tensor(0.0544)"
            ]
          },
          "execution_count": 15,
          "metadata": {},
          "output_type": "execute_result"
        }
      ],
      "source": [
        "model.eval()\n",
        "y_pred = []\n",
        "y_test = []\n",
        "for x, y in tqdm(testloader):\n",
        "    x, y = x.to(device), y.to(device)\n",
        "    y_pred.append(model(x).detach().cpu().numpy())\n",
        "    y_test.append(y.detach().cpu().numpy())\n",
        "y_pred = np.concatenate(y_pred)\n",
        "y_test = np.concatenate(y_test)\n",
        "f1 = MultilabelF1Score(num_labels=18, threshold=0.5, average='macro')\n",
        "f1.update(torch.tensor(y_pred), torch.tensor(y_test))\n",
        "f1.compute()"
      ]
    }
  ],
  "metadata": {
    "accelerator": "GPU",
    "colab": {
      "gpuType": "T4",
      "provenance": []
    },
    "kernelspec": {
      "display_name": "Python 3",
      "name": "python3"
    },
    "language_info": {
      "codemirror_mode": {
        "name": "ipython",
        "version": 3
      },
      "file_extension": ".py",
      "mimetype": "text/x-python",
      "name": "python",
      "nbconvert_exporter": "python",
      "pygments_lexer": "ipython3",
      "version": "3.11.5"
    }
  },
  "nbformat": 4,
  "nbformat_minor": 5
}
